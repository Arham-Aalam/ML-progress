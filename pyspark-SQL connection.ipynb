{
 "cells": [
  {
   "cell_type": "code",
   "execution_count": 8,
   "metadata": {},
   "outputs": [],
   "source": [
    "import findspark\n",
    "findspark.init()\n",
    "\n",
    "from pyspark import SparkContext\n",
    "from pyspark.sql import SQLContext\n",
    "\n",
    "spark = SparkSession\\\n",
    "    .builder\\\n",
    "    .appName(\"spark mysql\")\\\n",
    "    .getOrCreate()    \n",
    "\n",
    "df = spark.read\\\n",
    "    .format(\"jdbc\")\\\n",
    "    .option(\"url\", \"jdbc:mysql://localhost:3306\")\\\n",
    "    .option(\"dbtable\", \"company.employ\")\\\n",
    "    .option(\"user\", \"root\")\\\n",
    "    .option(\"password\", \"123456\")\\\n",
    "    .load()"
   ]
  },
  {
   "cell_type": "code",
   "execution_count": 9,
   "metadata": {},
   "outputs": [
    {
     "name": "stdout",
     "output_type": "stream",
     "text": [
      "+---+------------------+------+\n",
      "| id|              name|salary|\n",
      "+---+------------------+------+\n",
      "|  1|Arham aalam ansari| 45000|\n",
      "|  2|          exaample| 65000|\n",
      "|  3|              dumy|  5000|\n",
      "|  4|              jack| 47800|\n",
      "+---+------------------+------+\n",
      "\n"
     ]
    }
   ],
   "source": [
    "df.show()"
   ]
  },
  {
   "cell_type": "code",
   "execution_count": null,
   "metadata": {},
   "outputs": [],
   "source": []
  }
 ],
 "metadata": {
  "kernelspec": {
   "display_name": "Python 3",
   "language": "python",
   "name": "python3"
  }
 },
 "nbformat": 4,
 "nbformat_minor": 2
}
