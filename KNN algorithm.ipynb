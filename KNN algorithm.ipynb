{
 "cells": [
  {
   "cell_type": "code",
   "execution_count": 13,
   "metadata": {},
   "outputs": [
    {
     "name": "stdout",
     "output_type": "stream",
     "text": [
      "+-------+---------------+--------------+---------------+-------------+----------------------+-----------+-----------+-------------+-------+-----+\n",
      "|     id|clump_thickness|unif_cell_size|unif_cell_shape|marg_adhesion|single_epith_cell_size|bare_nuclei|bland_chrom|norm_nucleoli|mitoses|class|\n",
      "+-------+---------------+--------------+---------------+-------------+----------------------+-----------+-----------+-------------+-------+-----+\n",
      "|1000025|              5|             1|              1|            1|                     2|          1|          3|            1|      1|    2|\n",
      "|1002945|              5|             4|              4|            5|                     7|         10|          3|            2|      1|    2|\n",
      "|1015425|              3|             1|              1|            1|                     2|          2|          3|            1|      1|    2|\n",
      "|1016277|              6|             8|              8|            1|                     3|          4|          3|            7|      1|    2|\n",
      "|1017023|              4|             1|              1|            3|                     2|          1|          3|            1|      1|    2|\n",
      "+-------+---------------+--------------+---------------+-------------+----------------------+-----------+-----------+-------------+-------+-----+\n",
      "only showing top 5 rows\n",
      "\n"
     ]
    }
   ],
   "source": [
    "import findspark\n",
    "findspark.init()\n",
    "\n",
    "from pyspark import SparkContext\n",
    "from pyspark.sql import SQLContext\n",
    "\n",
    "spark = SparkSession\\\n",
    "    .builder\\\n",
    "    .appName(\"spark mysql\")\\\n",
    "    .getOrCreate()    \n",
    "\n",
    "\n",
    "#b_cancer_data = SQLContext.load(path = 'breast-cancer-wisconsin.data', header = True,inferSchema = True)\n",
    "\n",
    "sqlContext = SQLContext(sc)\n",
    "\n",
    "b_cancer_data = sqlContext.read.format('com.databricks.spark.csv').options(header='true', inferschema='true').load('breast-cancer-wisconsin.data')\n",
    "\n",
    "b_cancer_data.show(5)\n"
   ]
  },
  {
   "cell_type": "code",
   "execution_count": 67,
   "metadata": {
    "scrolled": true
   },
   "outputs": [
    {
     "name": "stdout",
     "output_type": "stream",
     "text": [
      "+-------+---------------+--------------+---------------+-------------+----------------------+-----------+-----------+-------------+-------+-----+\n",
      "|     id|clump_thickness|unif_cell_size|unif_cell_shape|marg_adhesion|single_epith_cell_size|bare_nuclei|bland_chrom|norm_nucleoli|mitoses|class|\n",
      "+-------+---------------+--------------+---------------+-------------+----------------------+-----------+-----------+-------------+-------+-----+\n",
      "|1000025|              5|             1|              1|            1|                     2|          1|          3|            1|      1|    2|\n",
      "|1002945|              5|             4|              4|            5|                     7|         10|          3|            2|      1|    2|\n",
      "|1015425|              3|             1|              1|            1|                     2|          2|          3|            1|      1|    2|\n",
      "|1016277|              6|             8|              8|            1|                     3|          4|          3|            7|      1|    2|\n",
      "|1017023|              4|             1|              1|            3|                     2|          1|          3|            1|      1|    2|\n",
      "|1017122|              8|            10|             10|            8|                     7|         10|          9|            7|      1|    4|\n",
      "|1018099|              1|             1|              1|            1|                     2|         10|          3|            1|      1|    2|\n",
      "|1018561|              2|             1|              2|            1|                     2|          1|          3|            1|      1|    2|\n",
      "|1033078|              2|             1|              1|            1|                     2|          1|          1|            1|      5|    2|\n",
      "|1033078|              4|             2|              1|            1|                     2|          1|          2|            1|      1|    2|\n",
      "|1035283|              1|             1|              1|            1|                     1|          1|          3|            1|      1|    2|\n",
      "|1036172|              2|             1|              1|            1|                     2|          1|          2|            1|      1|    2|\n",
      "|1041801|              5|             3|              3|            3|                     2|          3|          4|            4|      1|    4|\n",
      "|1043999|              1|             1|              1|            1|                     2|          3|          3|            1|      1|    2|\n",
      "|1044572|              8|             7|              5|           10|                     7|          9|          5|            5|      4|    4|\n",
      "|1047630|              7|             4|              6|            4|                     6|          1|          4|            3|      1|    4|\n",
      "|1048672|              4|             1|              1|            1|                     2|          1|          2|            1|      1|    2|\n",
      "|1049815|              4|             1|              1|            1|                     2|          1|          3|            1|      1|    2|\n",
      "|1050670|             10|             7|              7|            6|                     4|         10|          4|            1|      2|    4|\n",
      "|1050718|              6|             1|              1|            1|                     2|          1|          3|            1|      1|    2|\n",
      "|1054590|              7|             3|              2|           10|                     5|         10|          5|            4|      4|    4|\n",
      "|1054593|             10|             5|              5|            3|                     6|          7|          7|           10|      1|    4|\n",
      "|1056784|              3|             1|              1|            1|                     2|          1|          2|            1|      1|    2|\n",
      "|1057013|              8|             4|              5|            1|                     2|          ?|          7|            3|      1|    4|\n",
      "|1059552|              1|             1|              1|            1|                     2|          1|          3|            1|      1|    2|\n",
      "|1065726|              5|             2|              3|            4|                     2|          7|          3|            6|      1|    4|\n",
      "|1066373|              3|             2|              1|            1|                     1|          1|          2|            1|      1|    2|\n",
      "|1066979|              5|             1|              1|            1|                     2|          1|          2|            1|      1|    2|\n",
      "|1067444|              2|             1|              1|            1|                     2|          1|          2|            1|      1|    2|\n",
      "|1070935|              1|             1|              3|            1|                     2|          1|          1|            1|      1|    2|\n",
      "|1070935|              3|             1|              1|            1|                     1|          1|          2|            1|      1|    2|\n",
      "|1071760|              2|             1|              1|            1|                     2|          1|          3|            1|      1|    2|\n",
      "|1072179|             10|             7|              7|            3|                     8|          5|          7|            4|      3|    4|\n",
      "|1074610|              2|             1|              1|            2|                     2|          1|          3|            1|      1|    2|\n",
      "|1075123|              3|             1|              2|            1|                     2|          1|          2|            1|      1|    2|\n",
      "|1079304|              2|             1|              1|            1|                     2|          1|          2|            1|      1|    2|\n",
      "|1080185|             10|            10|             10|            8|                     6|          1|          8|            9|      1|    4|\n",
      "|1081791|              6|             2|              1|            1|                     1|          1|          7|            1|      1|    2|\n",
      "|1084584|              5|             4|              4|            9|                     2|         10|          5|            6|      1|    4|\n",
      "|1091262|              2|             5|              3|            3|                     6|          7|          7|            5|      1|    4|\n",
      "|1096800|              6|             6|              6|            9|                     6|          ?|          7|            8|      1|    2|\n",
      "|1099510|             10|             4|              3|            1|                     3|          3|          6|            5|      2|    4|\n",
      "|1100524|              6|            10|             10|            2|                     8|         10|          7|            3|      3|    4|\n",
      "|1102573|              5|             6|              5|            6|                    10|          1|          3|            1|      1|    4|\n",
      "|1103608|             10|            10|             10|            4|                     8|          1|          8|           10|      1|    4|\n",
      "|1103722|              1|             1|              1|            1|                     2|          1|          2|            1|      2|    2|\n",
      "|1105257|              3|             7|              7|            4|                     4|          9|          4|            8|      1|    4|\n",
      "|1105524|              1|             1|              1|            1|                     2|          1|          2|            1|      1|    2|\n",
      "|1106095|              4|             1|              1|            3|                     2|          1|          3|            1|      1|    2|\n",
      "|1106829|              7|             8|              7|            2|                     4|          8|          3|            8|      2|    4|\n",
      "|1108370|              9|             5|              8|            1|                     2|          3|          2|            1|      5|    4|\n",
      "|1108449|              5|             3|              3|            4|                     2|          4|          3|            4|      1|    4|\n",
      "|1110102|             10|             3|              6|            2|                     3|          5|          4|           10|      2|    4|\n",
      "|1110503|              5|             5|              5|            8|                    10|          8|          7|            3|      7|    4|\n",
      "|1110524|             10|             5|              5|            6|                     8|          8|          7|            1|      1|    4|\n",
      "|1111249|             10|             6|              6|            3|                     4|          5|          3|            6|      1|    4|\n",
      "|1112209|              8|            10|             10|            1|                     3|          6|          3|            9|      1|    4|\n",
      "|1113038|              8|             2|              4|            1|                     5|          1|          5|            4|      4|    4|\n",
      "|1113483|              5|             2|              3|            1|                     6|         10|          5|            1|      1|    4|\n",
      "|1113906|              9|             5|              5|            2|                     2|          2|          5|            1|      1|    4|\n",
      "|1115282|              5|             3|              5|            5|                     3|          3|          4|           10|      1|    4|\n",
      "|1115293|              1|             1|              1|            1|                     2|          2|          2|            1|      1|    2|\n",
      "|1116116|              9|            10|             10|            1|                    10|          8|          3|            3|      1|    4|\n",
      "|1116132|              6|             3|              4|            1|                     5|          2|          3|            9|      1|    4|\n",
      "|1116192|              1|             1|              1|            1|                     2|          1|          2|            1|      1|    2|\n",
      "|1116998|             10|             4|              2|            1|                     3|          2|          4|            3|     10|    4|\n",
      "|1117152|              4|             1|              1|            1|                     2|          1|          3|            1|      1|    2|\n",
      "|1118039|              5|             3|              4|            1|                     8|         10|          4|            9|      1|    4|\n",
      "|1120559|              8|             3|              8|            3|                     4|          9|          8|            9|      8|    4|\n",
      "|1121732|              1|             1|              1|            1|                     2|          1|          3|            2|      1|    2|\n",
      "|1121919|              5|             1|              3|            1|                     2|          1|          2|            1|      1|    2|\n",
      "|1123061|              6|            10|              2|            8|                    10|          2|          7|            8|     10|    4|\n",
      "|1124651|              1|             3|              3|            2|                     2|          1|          7|            2|      1|    2|\n",
      "|1125035|              9|             4|              5|           10|                     6|         10|          4|            8|      1|    4|\n",
      "|1126417|             10|             6|              4|            1|                     3|          4|          3|            2|      3|    4|\n",
      "|1131294|              1|             1|              2|            1|                     2|          2|          4|            2|      1|    2|\n",
      "|1132347|              1|             1|              4|            1|                     2|          1|          2|            1|      1|    2|\n",
      "|1133041|              5|             3|              1|            2|                     2|          1|          2|            1|      1|    2|\n",
      "|1133136|              3|             1|              1|            1|                     2|          3|          3|            1|      1|    2|\n",
      "|1136142|              2|             1|              1|            1|                     3|          1|          2|            1|      1|    2|\n",
      "|1137156|              2|             2|              2|            1|                     1|          1|          7|            1|      1|    2|\n",
      "|1143978|              4|             1|              1|            2|                     2|          1|          2|            1|      1|    2|\n",
      "|1143978|              5|             2|              1|            1|                     2|          1|          3|            1|      1|    2|\n",
      "|1147044|              3|             1|              1|            1|                     2|          2|          7|            1|      1|    2|\n",
      "|1147699|              3|             5|              7|            8|                     8|          9|          7|           10|      7|    4|\n",
      "|1147748|              5|            10|              6|            1|                    10|          4|          4|           10|     10|    4|\n",
      "|1148278|              3|             3|              6|            4|                     5|          8|          4|            4|      1|    4|\n",
      "|1148873|              3|             6|              6|            6|                     5|         10|          6|            8|      3|    4|\n",
      "|1152331|              4|             1|              1|            1|                     2|          1|          3|            1|      1|    2|\n",
      "|1155546|              2|             1|              1|            2|                     3|          1|          2|            1|      1|    2|\n",
      "|1156272|              1|             1|              1|            1|                     2|          1|          3|            1|      1|    2|\n",
      "|1156948|              3|             1|              1|            2|                     2|          1|          1|            1|      1|    2|\n",
      "|1157734|              4|             1|              1|            1|                     2|          1|          3|            1|      1|    2|\n",
      "|1158247|              1|             1|              1|            1|                     2|          1|          2|            1|      1|    2|\n",
      "|1160476|              2|             1|              1|            1|                     2|          1|          3|            1|      1|    2|\n",
      "|1164066|              1|             1|              1|            1|                     2|          1|          3|            1|      1|    2|\n",
      "|1165297|              2|             1|              1|            2|                     2|          1|          1|            1|      1|    2|\n",
      "|1165790|              5|             1|              1|            1|                     2|          1|          3|            1|      1|    2|\n",
      "|1165926|              9|             6|              9|            2|                    10|          6|          2|            9|     10|    4|\n",
      "|1166630|              7|             5|              6|           10|                     5|         10|          7|            9|      4|    4|\n",
      "+-------+---------------+--------------+---------------+-------------+----------------------+-----------+-----------+-------------+-------+-----+\n",
      "only showing top 100 rows\n",
      "\n"
     ]
    }
   ],
   "source": [
    "b_cancer_data.show(100)"
   ]
  },
  {
   "cell_type": "raw",
   "metadata": {},
   "source": []
  },
  {
   "cell_type": "code",
   "execution_count": 80,
   "metadata": {},
   "outputs": [],
   "source": [
    "from pyspark.sql.functions import *\n",
    "\n",
    "#ext_b_cancer_data = b_cancer_data.withColumn('bare_nuclei', regexp_replace('bare_nuclei', '?', '-99999'))\n",
    "#cols = b_cancer_data.columns\n",
    "# for col in cols[:1]:\n",
    "#     ext_b_cancer_data = b_cancer_data.withColumn(col, when(b_cancer_data[col] == '?', -99999))\n",
    "    \n",
    "ext_b_cancer_data = b_cancer_data.withColumn('bare_nuclei', when(b_cancer_data['bare_nuclei'] == '?', -99999).otherwise(b_cancer_data['bare_nuclei']))\n"
   ]
  },
  {
   "cell_type": "code",
   "execution_count": 82,
   "metadata": {},
   "outputs": [],
   "source": [
    "# ext_b_cancer_data.show(50)\n",
    "ext_b_cancer_data.write.format('jdbc').options(\n",
    "      url='jdbc:mysql://localhost/ML_DATA',\n",
    "      driver='com.mysql.jdbc.Driver',\n",
    "      dbtable='b_cancer_data',\n",
    "      user='root',\n",
    "      password='123456').mode('append').save()"
   ]
  },
  {
   "cell_type": "code",
   "execution_count": 89,
   "metadata": {},
   "outputs": [
    {
     "name": "stdout",
     "output_type": "stream",
     "text": [
      "+---------------+--------------+---------------+-------------+----------------------+-----------+-----------+-------------+-------+-----+\n",
      "|clump_thickness|unif_cell_size|unif_cell_shape|marg_adhesion|single_epith_cell_size|bare_nuclei|bland_chrom|norm_nucleoli|mitoses|class|\n",
      "+---------------+--------------+---------------+-------------+----------------------+-----------+-----------+-------------+-------+-----+\n",
      "|              5|             1|              1|            1|                     2|          1|          3|            1|      1|    2|\n",
      "|              5|             4|              4|            5|                     7|         10|          3|            2|      1|    2|\n",
      "|              3|             1|              1|            1|                     2|          2|          3|            1|      1|    2|\n",
      "|              6|             8|              8|            1|                     3|          4|          3|            7|      1|    2|\n",
      "|              4|             1|              1|            3|                     2|          1|          3|            1|      1|    2|\n",
      "|              8|            10|             10|            8|                     7|         10|          9|            7|      1|    4|\n",
      "+---------------+--------------+---------------+-------------+----------------------+-----------+-----------+-------------+-------+-----+\n",
      "only showing top 6 rows\n",
      "\n"
     ]
    }
   ],
   "source": [
    "cancer_data_for_knn = sqlContext.read.format('jdbc').options(\n",
    "    url='jdbc:mysql://localhost/ML_DATA',\n",
    "      driver='com.mysql.jdbc.Driver',\n",
    "      dbtable='b_cancer_data',\n",
    "      user='root',\n",
    "      password='123456').load()\n",
    "real_data = cancer_data_for_knn.drop('id')\n",
    "real_data.show(6)"
   ]
  },
  {
   "cell_type": "code",
   "execution_count": 96,
   "metadata": {},
   "outputs": [
    {
     "data": {
      "text/plain": [
       "[Row(clump_thickness=1, unif_cell_size=1, unif_cell_shape=1, marg_adhesion=1, single_epith_cell_size=1, bare_nuclei=-99999, bland_chrom=1, norm_nucleoli=1, mitoses=1, class=2)]"
      ]
     },
     "execution_count": 96,
     "metadata": {},
     "output_type": "execute_result"
    }
   ],
   "source": [
    "import numpy\n",
    "\n",
    "\n",
    "[training_data, testing_data] = real_data.randomSplit([0.7, 0.3], 24) \n",
    "training_data.take(1)\n",
    "testing_data.take(1)"
   ]
  },
  {
   "cell_type": "code",
   "execution_count": 127,
   "metadata": {},
   "outputs": [],
   "source": [
    "\n",
    "X_train = numpy.array(training_data.drop('class').collect())\n",
    "y_train = numpy.array(training_data['class'])\n",
    "\n",
    "X_test = numpy.array(testing_data.drop('class').collect())\n",
    "y_test = numpy.array(testing_data['class'])\n"
   ]
  },
  {
   "cell_type": "code",
   "execution_count": 132,
   "metadata": {},
   "outputs": [
    {
     "ename": "TypeError",
     "evalue": "Singleton array array(Column<b'class'>, dtype=object) cannot be considered a valid collection.",
     "output_type": "error",
     "traceback": [
      "\u001b[0;31m---------------------------------------------------------------------------\u001b[0m",
      "\u001b[0;31mTypeError\u001b[0m                                 Traceback (most recent call last)",
      "\u001b[0;32m<ipython-input-132-e50ad7934469>\u001b[0m in \u001b[0;36m<module>\u001b[0;34m()\u001b[0m\n\u001b[1;32m      3\u001b[0m \u001b[0;34m\u001b[0m\u001b[0m\n\u001b[1;32m      4\u001b[0m \u001b[0mclf\u001b[0m \u001b[0;34m=\u001b[0m \u001b[0mneighbors\u001b[0m\u001b[0;34m.\u001b[0m\u001b[0mKNeighborsClassifier\u001b[0m\u001b[0;34m(\u001b[0m\u001b[0;34m)\u001b[0m\u001b[0;34m\u001b[0m\u001b[0m\n\u001b[0;32m----> 5\u001b[0;31m \u001b[0mclf\u001b[0m\u001b[0;34m.\u001b[0m\u001b[0mfit\u001b[0m\u001b[0;34m(\u001b[0m\u001b[0mX_train\u001b[0m\u001b[0;34m,\u001b[0m \u001b[0my_train\u001b[0m\u001b[0;34m)\u001b[0m\u001b[0;34m\u001b[0m\u001b[0m\n\u001b[0m\u001b[1;32m      6\u001b[0m \u001b[0;34m\u001b[0m\u001b[0m\n\u001b[1;32m      7\u001b[0m \u001b[0maccuracy\u001b[0m \u001b[0;34m=\u001b[0m \u001b[0mclf\u001b[0m\u001b[0;34m.\u001b[0m\u001b[0mscore\u001b[0m\u001b[0;34m(\u001b[0m\u001b[0mX_test\u001b[0m\u001b[0;34m,\u001b[0m \u001b[0my_test\u001b[0m\u001b[0;34m)\u001b[0m\u001b[0;34m\u001b[0m\u001b[0m\n",
      "\u001b[0;32m/usr/local/lib/python3.6/dist-packages/sklearn/neighbors/base.py\u001b[0m in \u001b[0;36mfit\u001b[0;34m(self, X, y)\u001b[0m\n\u001b[1;32m    763\u001b[0m         \"\"\"\n\u001b[1;32m    764\u001b[0m         \u001b[0;32mif\u001b[0m \u001b[0;32mnot\u001b[0m \u001b[0misinstance\u001b[0m\u001b[0;34m(\u001b[0m\u001b[0mX\u001b[0m\u001b[0;34m,\u001b[0m \u001b[0;34m(\u001b[0m\u001b[0mKDTree\u001b[0m\u001b[0;34m,\u001b[0m \u001b[0mBallTree\u001b[0m\u001b[0;34m)\u001b[0m\u001b[0;34m)\u001b[0m\u001b[0;34m:\u001b[0m\u001b[0;34m\u001b[0m\u001b[0m\n\u001b[0;32m--> 765\u001b[0;31m             \u001b[0mX\u001b[0m\u001b[0;34m,\u001b[0m \u001b[0my\u001b[0m \u001b[0;34m=\u001b[0m \u001b[0mcheck_X_y\u001b[0m\u001b[0;34m(\u001b[0m\u001b[0mX\u001b[0m\u001b[0;34m,\u001b[0m \u001b[0my\u001b[0m\u001b[0;34m,\u001b[0m \u001b[0;34m\"csr\"\u001b[0m\u001b[0;34m,\u001b[0m \u001b[0mmulti_output\u001b[0m\u001b[0;34m=\u001b[0m\u001b[0;32mTrue\u001b[0m\u001b[0;34m)\u001b[0m\u001b[0;34m\u001b[0m\u001b[0m\n\u001b[0m\u001b[1;32m    766\u001b[0m \u001b[0;34m\u001b[0m\u001b[0m\n\u001b[1;32m    767\u001b[0m         \u001b[0;32mif\u001b[0m \u001b[0my\u001b[0m\u001b[0;34m.\u001b[0m\u001b[0mndim\u001b[0m \u001b[0;34m==\u001b[0m \u001b[0;36m1\u001b[0m \u001b[0;32mor\u001b[0m \u001b[0my\u001b[0m\u001b[0;34m.\u001b[0m\u001b[0mndim\u001b[0m \u001b[0;34m==\u001b[0m \u001b[0;36m2\u001b[0m \u001b[0;32mand\u001b[0m \u001b[0my\u001b[0m\u001b[0;34m.\u001b[0m\u001b[0mshape\u001b[0m\u001b[0;34m[\u001b[0m\u001b[0;36m1\u001b[0m\u001b[0;34m]\u001b[0m \u001b[0;34m==\u001b[0m \u001b[0;36m1\u001b[0m\u001b[0;34m:\u001b[0m\u001b[0;34m\u001b[0m\u001b[0m\n",
      "\u001b[0;32m/usr/local/lib/python3.6/dist-packages/sklearn/utils/validation.py\u001b[0m in \u001b[0;36mcheck_X_y\u001b[0;34m(X, y, accept_sparse, dtype, order, copy, force_all_finite, ensure_2d, allow_nd, multi_output, ensure_min_samples, ensure_min_features, y_numeric, warn_on_dtype, estimator)\u001b[0m\n\u001b[1;32m    574\u001b[0m     \u001b[0;32mif\u001b[0m \u001b[0mmulti_output\u001b[0m\u001b[0;34m:\u001b[0m\u001b[0;34m\u001b[0m\u001b[0m\n\u001b[1;32m    575\u001b[0m         y = check_array(y, 'csr', force_all_finite=True, ensure_2d=False,\n\u001b[0;32m--> 576\u001b[0;31m                         dtype=None)\n\u001b[0m\u001b[1;32m    577\u001b[0m     \u001b[0;32melse\u001b[0m\u001b[0;34m:\u001b[0m\u001b[0;34m\u001b[0m\u001b[0m\n\u001b[1;32m    578\u001b[0m         \u001b[0my\u001b[0m \u001b[0;34m=\u001b[0m \u001b[0mcolumn_or_1d\u001b[0m\u001b[0;34m(\u001b[0m\u001b[0my\u001b[0m\u001b[0;34m,\u001b[0m \u001b[0mwarn\u001b[0m\u001b[0;34m=\u001b[0m\u001b[0;32mTrue\u001b[0m\u001b[0;34m)\u001b[0m\u001b[0;34m\u001b[0m\u001b[0m\n",
      "\u001b[0;32m/usr/local/lib/python3.6/dist-packages/sklearn/utils/validation.py\u001b[0m in \u001b[0;36mcheck_array\u001b[0;34m(array, accept_sparse, dtype, order, copy, force_all_finite, ensure_2d, allow_nd, ensure_min_samples, ensure_min_features, warn_on_dtype, estimator)\u001b[0m\n\u001b[1;32m    455\u001b[0m     \u001b[0mshape_repr\u001b[0m \u001b[0;34m=\u001b[0m \u001b[0m_shape_repr\u001b[0m\u001b[0;34m(\u001b[0m\u001b[0marray\u001b[0m\u001b[0;34m.\u001b[0m\u001b[0mshape\u001b[0m\u001b[0;34m)\u001b[0m\u001b[0;34m\u001b[0m\u001b[0m\n\u001b[1;32m    456\u001b[0m     \u001b[0;32mif\u001b[0m \u001b[0mensure_min_samples\u001b[0m \u001b[0;34m>\u001b[0m \u001b[0;36m0\u001b[0m\u001b[0;34m:\u001b[0m\u001b[0;34m\u001b[0m\u001b[0m\n\u001b[0;32m--> 457\u001b[0;31m         \u001b[0mn_samples\u001b[0m \u001b[0;34m=\u001b[0m \u001b[0m_num_samples\u001b[0m\u001b[0;34m(\u001b[0m\u001b[0marray\u001b[0m\u001b[0;34m)\u001b[0m\u001b[0;34m\u001b[0m\u001b[0m\n\u001b[0m\u001b[1;32m    458\u001b[0m         \u001b[0;32mif\u001b[0m \u001b[0mn_samples\u001b[0m \u001b[0;34m<\u001b[0m \u001b[0mensure_min_samples\u001b[0m\u001b[0;34m:\u001b[0m\u001b[0;34m\u001b[0m\u001b[0m\n\u001b[1;32m    459\u001b[0m             raise ValueError(\"Found array with %d sample(s) (shape=%s) while a\"\n",
      "\u001b[0;32m/usr/local/lib/python3.6/dist-packages/sklearn/utils/validation.py\u001b[0m in \u001b[0;36m_num_samples\u001b[0;34m(x)\u001b[0m\n\u001b[1;32m    117\u001b[0m         \u001b[0;32mif\u001b[0m \u001b[0mlen\u001b[0m\u001b[0;34m(\u001b[0m\u001b[0mx\u001b[0m\u001b[0;34m.\u001b[0m\u001b[0mshape\u001b[0m\u001b[0;34m)\u001b[0m \u001b[0;34m==\u001b[0m \u001b[0;36m0\u001b[0m\u001b[0;34m:\u001b[0m\u001b[0;34m\u001b[0m\u001b[0m\n\u001b[1;32m    118\u001b[0m             raise TypeError(\"Singleton array %r cannot be considered\"\n\u001b[0;32m--> 119\u001b[0;31m                             \" a valid collection.\" % x)\n\u001b[0m\u001b[1;32m    120\u001b[0m         \u001b[0;32mreturn\u001b[0m \u001b[0mx\u001b[0m\u001b[0;34m.\u001b[0m\u001b[0mshape\u001b[0m\u001b[0;34m[\u001b[0m\u001b[0;36m0\u001b[0m\u001b[0;34m]\u001b[0m\u001b[0;34m\u001b[0m\u001b[0m\n\u001b[1;32m    121\u001b[0m     \u001b[0;32melse\u001b[0m\u001b[0;34m:\u001b[0m\u001b[0;34m\u001b[0m\u001b[0m\n",
      "\u001b[0;31mTypeError\u001b[0m: Singleton array array(Column<b'class'>, dtype=object) cannot be considered a valid collection."
     ]
    }
   ],
   "source": [
    "# print(X_train)\n",
    "from sklearn import preprocessing, neighbors\n",
    "\n",
    "clf = neighbors.KNeighborsClassifier()\n",
    "clf.fit(X_train, y_train)\n",
    "\n",
    "accuracy = clf.score(X_test, y_test)\n",
    "\n",
    "print(accuracy)"
   ]
  },
  {
   "cell_type": "code",
   "execution_count": null,
   "metadata": {},
   "outputs": [],
   "source": []
  },
  {
   "cell_type": "code",
   "execution_count": null,
   "metadata": {},
   "outputs": [],
   "source": []
  }
 ],
 "metadata": {
  "kernelspec": {
   "display_name": "Python 3",
   "language": "python",
   "name": "python3"
  },
  "language_info": {
   "codemirror_mode": {
    "name": "ipython",
    "version": 3
   },
   "file_extension": ".py",
   "mimetype": "text/x-python",
   "name": "python",
   "nbconvert_exporter": "python",
   "pygments_lexer": "ipython3",
   "version": "3.6.5"
  }
 },
 "nbformat": 4,
 "nbformat_minor": 2
}
